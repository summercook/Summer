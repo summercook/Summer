{
 "cells": [
  {
   "cell_type": "code",
   "execution_count": 2,
   "metadata": {},
   "outputs": [],
   "source": [
    "import pandas as pd\n",
    "import json\n",
    "import csv\n",
    "import re\n",
    "import tweepy\n",
    "from tweepy import OAuthHandler\n",
    "import time"
   ]
  },
  {
   "cell_type": "code",
   "execution_count": 3,
   "metadata": {},
   "outputs": [],
   "source": [
    "df_archive = pd.read_csv('twitter-archive-enhanced-2.csv')\n",
    "df_image = pd.read_csv('image-predictions-3.tsv',  delimiter='\\t')"
   ]
  },
  {
   "cell_type": "code",
   "execution_count": 4,
   "metadata": {},
   "outputs": [
    {
     "data": {
      "text/html": [
       "<div>\n",
       "<style scoped>\n",
       "    .dataframe tbody tr th:only-of-type {\n",
       "        vertical-align: middle;\n",
       "    }\n",
       "\n",
       "    .dataframe tbody tr th {\n",
       "        vertical-align: top;\n",
       "    }\n",
       "\n",
       "    .dataframe thead th {\n",
       "        text-align: right;\n",
       "    }\n",
       "</style>\n",
       "<table border=\"1\" class=\"dataframe\">\n",
       "  <thead>\n",
       "    <tr style=\"text-align: right;\">\n",
       "      <th></th>\n",
       "      <th>tweet_id</th>\n",
       "      <th>in_reply_to_status_id</th>\n",
       "      <th>in_reply_to_user_id</th>\n",
       "      <th>timestamp</th>\n",
       "      <th>source</th>\n",
       "      <th>text</th>\n",
       "      <th>retweeted_status_id</th>\n",
       "      <th>retweeted_status_user_id</th>\n",
       "      <th>retweeted_status_timestamp</th>\n",
       "      <th>expanded_urls</th>\n",
       "      <th>rating_numerator</th>\n",
       "      <th>rating_denominator</th>\n",
       "      <th>name</th>\n",
       "      <th>doggo</th>\n",
       "      <th>floofer</th>\n",
       "      <th>pupper</th>\n",
       "      <th>puppo</th>\n",
       "    </tr>\n",
       "  </thead>\n",
       "  <tbody>\n",
       "    <tr>\n",
       "      <th>0</th>\n",
       "      <td>892420643555336193</td>\n",
       "      <td>NaN</td>\n",
       "      <td>NaN</td>\n",
       "      <td>2017-08-01 16:23:56 +0000</td>\n",
       "      <td>&lt;a href=\"http://twitter.com/download/iphone\" r...</td>\n",
       "      <td>This is Phineas. He's a mystical boy. Only eve...</td>\n",
       "      <td>NaN</td>\n",
       "      <td>NaN</td>\n",
       "      <td>NaN</td>\n",
       "      <td>https://twitter.com/dog_rates/status/892420643...</td>\n",
       "      <td>13</td>\n",
       "      <td>10</td>\n",
       "      <td>Phineas</td>\n",
       "      <td>None</td>\n",
       "      <td>None</td>\n",
       "      <td>None</td>\n",
       "      <td>None</td>\n",
       "    </tr>\n",
       "    <tr>\n",
       "      <th>1</th>\n",
       "      <td>892177421306343426</td>\n",
       "      <td>NaN</td>\n",
       "      <td>NaN</td>\n",
       "      <td>2017-08-01 00:17:27 +0000</td>\n",
       "      <td>&lt;a href=\"http://twitter.com/download/iphone\" r...</td>\n",
       "      <td>This is Tilly. She's just checking pup on you....</td>\n",
       "      <td>NaN</td>\n",
       "      <td>NaN</td>\n",
       "      <td>NaN</td>\n",
       "      <td>https://twitter.com/dog_rates/status/892177421...</td>\n",
       "      <td>13</td>\n",
       "      <td>10</td>\n",
       "      <td>Tilly</td>\n",
       "      <td>None</td>\n",
       "      <td>None</td>\n",
       "      <td>None</td>\n",
       "      <td>None</td>\n",
       "    </tr>\n",
       "    <tr>\n",
       "      <th>2</th>\n",
       "      <td>891815181378084864</td>\n",
       "      <td>NaN</td>\n",
       "      <td>NaN</td>\n",
       "      <td>2017-07-31 00:18:03 +0000</td>\n",
       "      <td>&lt;a href=\"http://twitter.com/download/iphone\" r...</td>\n",
       "      <td>This is Archie. He is a rare Norwegian Pouncin...</td>\n",
       "      <td>NaN</td>\n",
       "      <td>NaN</td>\n",
       "      <td>NaN</td>\n",
       "      <td>https://twitter.com/dog_rates/status/891815181...</td>\n",
       "      <td>12</td>\n",
       "      <td>10</td>\n",
       "      <td>Archie</td>\n",
       "      <td>None</td>\n",
       "      <td>None</td>\n",
       "      <td>None</td>\n",
       "      <td>None</td>\n",
       "    </tr>\n",
       "    <tr>\n",
       "      <th>3</th>\n",
       "      <td>891689557279858688</td>\n",
       "      <td>NaN</td>\n",
       "      <td>NaN</td>\n",
       "      <td>2017-07-30 15:58:51 +0000</td>\n",
       "      <td>&lt;a href=\"http://twitter.com/download/iphone\" r...</td>\n",
       "      <td>This is Darla. She commenced a snooze mid meal...</td>\n",
       "      <td>NaN</td>\n",
       "      <td>NaN</td>\n",
       "      <td>NaN</td>\n",
       "      <td>https://twitter.com/dog_rates/status/891689557...</td>\n",
       "      <td>13</td>\n",
       "      <td>10</td>\n",
       "      <td>Darla</td>\n",
       "      <td>None</td>\n",
       "      <td>None</td>\n",
       "      <td>None</td>\n",
       "      <td>None</td>\n",
       "    </tr>\n",
       "    <tr>\n",
       "      <th>4</th>\n",
       "      <td>891327558926688256</td>\n",
       "      <td>NaN</td>\n",
       "      <td>NaN</td>\n",
       "      <td>2017-07-29 16:00:24 +0000</td>\n",
       "      <td>&lt;a href=\"http://twitter.com/download/iphone\" r...</td>\n",
       "      <td>This is Franklin. He would like you to stop ca...</td>\n",
       "      <td>NaN</td>\n",
       "      <td>NaN</td>\n",
       "      <td>NaN</td>\n",
       "      <td>https://twitter.com/dog_rates/status/891327558...</td>\n",
       "      <td>12</td>\n",
       "      <td>10</td>\n",
       "      <td>Franklin</td>\n",
       "      <td>None</td>\n",
       "      <td>None</td>\n",
       "      <td>None</td>\n",
       "      <td>None</td>\n",
       "    </tr>\n",
       "  </tbody>\n",
       "</table>\n",
       "</div>"
      ],
      "text/plain": [
       "             tweet_id  in_reply_to_status_id  in_reply_to_user_id  \\\n",
       "0  892420643555336193                    NaN                  NaN   \n",
       "1  892177421306343426                    NaN                  NaN   \n",
       "2  891815181378084864                    NaN                  NaN   \n",
       "3  891689557279858688                    NaN                  NaN   \n",
       "4  891327558926688256                    NaN                  NaN   \n",
       "\n",
       "                   timestamp  \\\n",
       "0  2017-08-01 16:23:56 +0000   \n",
       "1  2017-08-01 00:17:27 +0000   \n",
       "2  2017-07-31 00:18:03 +0000   \n",
       "3  2017-07-30 15:58:51 +0000   \n",
       "4  2017-07-29 16:00:24 +0000   \n",
       "\n",
       "                                              source  \\\n",
       "0  <a href=\"http://twitter.com/download/iphone\" r...   \n",
       "1  <a href=\"http://twitter.com/download/iphone\" r...   \n",
       "2  <a href=\"http://twitter.com/download/iphone\" r...   \n",
       "3  <a href=\"http://twitter.com/download/iphone\" r...   \n",
       "4  <a href=\"http://twitter.com/download/iphone\" r...   \n",
       "\n",
       "                                                text  retweeted_status_id  \\\n",
       "0  This is Phineas. He's a mystical boy. Only eve...                  NaN   \n",
       "1  This is Tilly. She's just checking pup on you....                  NaN   \n",
       "2  This is Archie. He is a rare Norwegian Pouncin...                  NaN   \n",
       "3  This is Darla. She commenced a snooze mid meal...                  NaN   \n",
       "4  This is Franklin. He would like you to stop ca...                  NaN   \n",
       "\n",
       "   retweeted_status_user_id retweeted_status_timestamp  \\\n",
       "0                       NaN                        NaN   \n",
       "1                       NaN                        NaN   \n",
       "2                       NaN                        NaN   \n",
       "3                       NaN                        NaN   \n",
       "4                       NaN                        NaN   \n",
       "\n",
       "                                       expanded_urls  rating_numerator  \\\n",
       "0  https://twitter.com/dog_rates/status/892420643...                13   \n",
       "1  https://twitter.com/dog_rates/status/892177421...                13   \n",
       "2  https://twitter.com/dog_rates/status/891815181...                12   \n",
       "3  https://twitter.com/dog_rates/status/891689557...                13   \n",
       "4  https://twitter.com/dog_rates/status/891327558...                12   \n",
       "\n",
       "   rating_denominator      name doggo floofer pupper puppo  \n",
       "0                  10   Phineas  None    None   None  None  \n",
       "1                  10     Tilly  None    None   None  None  \n",
       "2                  10    Archie  None    None   None  None  \n",
       "3                  10     Darla  None    None   None  None  \n",
       "4                  10  Franklin  None    None   None  None  "
      ]
     },
     "execution_count": 4,
     "metadata": {},
     "output_type": "execute_result"
    }
   ],
   "source": [
    "df_archive.head()\n",
    "#df.info()"
   ]
  },
  {
   "cell_type": "code",
   "execution_count": 5,
   "metadata": {},
   "outputs": [],
   "source": [
    "consumer_key = 'jbL7N3K4eXgD1zhDfeS2TcnFr'\n",
    "consumer_secret = 'XeIpJqZ4i8WAolHVCNBqGtILZKY1J0TVJw8GkpW9jDRthls1qn'\n",
    "access_token = '495295426-3dc2rEDWSI8AX8NxYCpIRV9tk83EwocP7RzbraDC'\n",
    "access_token_secret = 'zsulnNzoCcHRURBOkfVkb1tLcJPfYinSwfJBpn9Nam1FV'\n",
    "\n",
    "\n",
    "# search_favorites(consumer_key, consumer_secret, access_token, access_token_secret):\n",
    "#create authentication for accessing twitter\n",
    "auth = OAuthHandler(consumer_key, consumer_secret)\n",
    "auth.set_access_token(access_token, access_token_secret)\n",
    "\n",
    "#initialize Tweepy API\n",
    "api = tweepy.API(auth, wait_on_rate_limit =True, wait_on_rate_limit_notify = True)\n",
    "tweet_ids = df_archive.tweet_id\n",
    "\n"
   ]
  },
  {
   "cell_type": "code",
   "execution_count": 6,
   "metadata": {},
   "outputs": [
    {
     "name": "stdout",
     "output_type": "stream",
     "text": [
      "Fail\n",
      "Fail\n",
      "Fail\n",
      "Fail\n",
      "Fail\n",
      "Fail\n",
      "Fail\n",
      "Fail\n",
      "Fail\n",
      "Fail\n",
      "Fail\n",
      "Fail\n",
      "Fail\n",
      "Fail\n",
      "Fail\n",
      "Fail\n",
      "Fail\n"
     ]
    },
    {
     "name": "stderr",
     "output_type": "stream",
     "text": [
      "Rate limit reached. Sleeping for: 596\n"
     ]
    },
    {
     "name": "stdout",
     "output_type": "stream",
     "text": [
      "Fail\n",
      "Fail\n"
     ]
    },
    {
     "name": "stderr",
     "output_type": "stream",
     "text": [
      "Rate limit reached. Sleeping for: 628\n"
     ]
    }
   ],
   "source": [
    "count = 0\n",
    "fails_dict = {}\n",
    "#save each tweet's returned JSON as a new line in a .txt file\n",
    "with open('tweet_json.txt', 'w') as outfile:\n",
    "    \n",
    "    #loop through each tweet id and write to outfile\n",
    "    for tweet_id in tweet_ids:\n",
    "        count += 1        \n",
    "        try:\n",
    "            tweet = api.get_status(tweet_id, tweet_mode='extended')\n",
    "            json.dump(tweet._json, outfile)\n",
    "            outfile.write('\\n')\n",
    "            \n",
    "        except tweepy.TweepError as e:\n",
    "            print(\"Fail\")\n",
    "            fails_dict[tweet_id] = e\n",
    "            pass\n"
   ]
  },
  {
   "cell_type": "code",
   "execution_count": 10,
   "metadata": {},
   "outputs": [],
   "source": [
    "df_1 = pd.DataFrame(columns=['tweet_id', 'retweet_count', 'favorite_count'])\n",
    "with open('tweet_json.txt') as f:\n",
    "    for line in f:\n",
    "        status  = json.loads(line)\n",
    "        tweet_id = status['id_str']\n",
    "        retweet_count = status['retweet_count']\n",
    "        favorite_count = status['favorite_count']\n",
    "        df_1 = df_1.append(pd.DataFrame([[tweet_id, retweet_count, favorite_count]],\n",
    "                                        columns=['tweet_id', 'retweet_count', 'favorite_count']))\n",
    "df_1 = df_1.reset_index(drop=True)\n"
   ]
  },
  {
   "cell_type": "code",
   "execution_count": 17,
   "metadata": {},
   "outputs": [],
   "source": [
    "df_1.tweet_id = df_1.tweet_id.astype('str')\n",
    "df_archive.tweet_id = df_archive.tweet_id.astype('str')\n",
    "#assess\n",
    "#df_merged2.query('rating_numerator < 10 or rating_numerator >16')['text']\n",
    "#df_merged2.name.value_counts()\n"
   ]
  },
  {
   "cell_type": "markdown",
   "metadata": {},
   "source": [
    "Merge data frames"
   ]
  },
  {
   "cell_type": "code",
   "execution_count": 18,
   "metadata": {},
   "outputs": [],
   "source": [
    "df_merged = df_archive.merge(df_1, how= 'inner', on = 'tweet_id')\n",
    "#df_archive.info()\n",
    "#df_1.info()"
   ]
  },
  {
   "cell_type": "code",
   "execution_count": null,
   "metadata": {},
   "outputs": [],
   "source": []
  },
  {
   "cell_type": "markdown",
   "metadata": {},
   "source": [
    "def: remove rows present in retweet status\n",
    "remove unnecessary rows\n",
    "remove retweet status columns\n",
    "remove denomenator"
   ]
  },
  {
   "cell_type": "code",
   "execution_count": 19,
   "metadata": {},
   "outputs": [
    {
     "name": "stderr",
     "output_type": "stream",
     "text": [
      "C:\\Users\\Summer\\Anaconda3\\lib\\site-packages\\pandas\\core\\frame.py:3940: SettingWithCopyWarning: \n",
      "A value is trying to be set on a copy of a slice from a DataFrame\n",
      "\n",
      "See the caveats in the documentation: http://pandas.pydata.org/pandas-docs/stable/indexing.html#indexing-view-versus-copy\n",
      "  errors=errors)\n"
     ]
    }
   ],
   "source": [
    "#df1 = df1[df1['retweeted_status_id'].isna()]\n",
    "df_merged2 = df_merged[df_merged['retweeted_status_id'].isna()]\n",
    "df_merged2 = df_merged[df_merged['in_reply_to_status_id'].isna()]\n",
    "\n",
    "df_merged2.drop(['retweeted_status_id', 'retweeted_status_user_id', 'retweeted_status_timestamp', 'rating_denominator', 'in_reply_to_status_id', 'in_reply_to_user_id'],  axis =1, inplace = True )"
   ]
  },
  {
   "cell_type": "markdown",
   "metadata": {},
   "source": [
    "combine stages"
   ]
  },
  {
   "cell_type": "code",
   "execution_count": 20,
   "metadata": {},
   "outputs": [],
   "source": [
    "#df_merged2['stage'] = df_merged2.doggo + df_merged2.floofer + df_merged2.pupper + df_merged2.puppo\n",
    "#df_merged2.doggo.value_counts()\n"
   ]
  },
  {
   "cell_type": "markdown",
   "metadata": {},
   "source": [
    "remove rows without photos"
   ]
  },
  {
   "cell_type": "code",
   "execution_count": 21,
   "metadata": {},
   "outputs": [],
   "source": [
    "#df_merged2.info()\n",
    "#df_merged['image_link'] = df_merged.text.str.extract('http://')\n",
    "df_merged3 = df_merged2[df_merged2.text.str.contains(\"https://\")]"
   ]
  },
  {
   "cell_type": "markdown",
   "metadata": {},
   "source": [
    "Names 869988702071779329 = quite\n",
    "a \n",
    "an \n",
    "the"
   ]
  },
  {
   "cell_type": "code",
   "execution_count": 22,
   "metadata": {},
   "outputs": [
    {
     "name": "stderr",
     "output_type": "stream",
     "text": [
      "C:\\Users\\Summer\\Anaconda3\\lib\\site-packages\\pandas\\core\\indexing.py:543: SettingWithCopyWarning: \n",
      "A value is trying to be set on a copy of a slice from a DataFrame.\n",
      "Try using .loc[row_indexer,col_indexer] = value instead\n",
      "\n",
      "See the caveats in the documentation: http://pandas.pydata.org/pandas-docs/stable/indexing.html#indexing-view-versus-copy\n",
      "  self.obj[item] = s\n"
     ]
    }
   ],
   "source": [
    "df_merged3.loc[df_merged3['name'] == \"quite\", 'name'] = None\n",
    "df_merged3.loc[df_merged3['name'] == \"the\", 'name'] = None\n",
    "df_merged3.loc[df_merged3['name'] == \"an\", 'name'] = None\n",
    "df_merged3.loc[df_merged3['name'] == \"an\", 'name'] = None\n",
    "df_merged3.loc[df_merged3['name'] == \"just\", 'name'] = None\n",
    "\n"
   ]
  },
  {
   "cell_type": "markdown",
   "metadata": {},
   "source": [
    "combine stage columns"
   ]
  },
  {
   "cell_type": "code",
   "execution_count": 23,
   "metadata": {},
   "outputs": [
    {
     "name": "stdout",
     "output_type": "stream",
     "text": [
      "<class 'pandas.core.frame.DataFrame'>\n",
      "Int64Index: 2227 entries, 0 to 2336\n",
      "Data columns (total 13 columns):\n",
      "tweet_id            2227 non-null object\n",
      "timestamp           2227 non-null object\n",
      "source              2227 non-null object\n",
      "text                2227 non-null object\n",
      "expanded_urls       2227 non-null object\n",
      "rating_numerator    2227 non-null int64\n",
      "name                2205 non-null object\n",
      "doggo               2227 non-null object\n",
      "floofer             2227 non-null object\n",
      "pupper              2227 non-null object\n",
      "puppo               2227 non-null object\n",
      "retweet_count       2227 non-null object\n",
      "favorite_count      2227 non-null object\n",
      "dtypes: int64(1), object(12)\n",
      "memory usage: 243.6+ KB\n"
     ]
    }
   ],
   "source": [
    "\n",
    "df_merged3.info()"
   ]
  },
  {
   "cell_type": "code",
   "execution_count": 40,
   "metadata": {},
   "outputs": [
    {
     "name": "stderr",
     "output_type": "stream",
     "text": [
      "C:\\Users\\Summer\\Anaconda3\\lib\\site-packages\\ipykernel_launcher.py:1: SettingWithCopyWarning: \n",
      "A value is trying to be set on a copy of a slice from a DataFrame.\n",
      "Try using .loc[row_indexer,col_indexer] = value instead\n",
      "\n",
      "See the caveats in the documentation: http://pandas.pydata.org/pandas-docs/stable/indexing.html#indexing-view-versus-copy\n",
      "  \"\"\"Entry point for launching an IPython kernel.\n"
     ]
    }
   ],
   "source": [
    "df_merged3['stage'] = df_merged3.text.str.findall(r'(doggo|floofer|pupper|puppo)')\n",
    "#df_merged3['stage']= df_merged3['floofer'] + df_merged3['doggo'] + df_merged3['pupper'] + df_merged3['puppo']\n"
   ]
  },
  {
   "cell_type": "code",
   "execution_count": 41,
   "metadata": {},
   "outputs": [
    {
     "name": "stderr",
     "output_type": "stream",
     "text": [
      "C:\\Users\\Summer\\Anaconda3\\lib\\site-packages\\ipykernel_launcher.py:1: SettingWithCopyWarning: \n",
      "A value is trying to be set on a copy of a slice from a DataFrame.\n",
      "Try using .loc[row_indexer,col_indexer] = value instead\n",
      "\n",
      "See the caveats in the documentation: http://pandas.pydata.org/pandas-docs/stable/indexing.html#indexing-view-versus-copy\n",
      "  \"\"\"Entry point for launching an IPython kernel.\n"
     ]
    }
   ],
   "source": [
    "df_merged3['stage'] = df_merged3['stage'].str.join(',')\n"
   ]
  },
  {
   "cell_type": "code",
   "execution_count": 42,
   "metadata": {},
   "outputs": [],
   "source": [
    "df4 = df_merged3.drop(['doggo', 'floofer', 'pupper', 'puppo'], axis =1)"
   ]
  },
  {
   "cell_type": "code",
   "execution_count": 43,
   "metadata": {},
   "outputs": [
    {
     "data": {
      "text/plain": [
       "                1849\n",
       "pupper           251\n",
       "doggo             81\n",
       "puppo             31\n",
       "doggo,pupper       6\n",
       "floofer            4\n",
       "pupper,doggo       3\n",
       "puppo,doggo        2\n",
       "Name: stage, dtype: int64"
      ]
     },
     "execution_count": 43,
     "metadata": {},
     "output_type": "execute_result"
    }
   ],
   "source": [
    "\n",
    "\n",
    "df4['stage'].replace('pupper,pupper', 'pupper', inplace =True) \n",
    "df4['stage'].replace('pupper,doggo,doggo', 'pupper,doggo', inplace = True) \n",
    "df4['stage'].replace('pupper,pupper,pupper', 'pupper', inplace = True) \n",
    "\n",
    "df4.stage.value_counts()"
   ]
  },
  {
   "cell_type": "code",
   "execution_count": null,
   "metadata": {},
   "outputs": [],
   "source": []
  },
  {
   "cell_type": "code",
   "execution_count": 30,
   "metadata": {},
   "outputs": [],
   "source": [
    "import datetime as dt\n",
    "\n",
    "df4.timestamp = pd.to_datetime(df4['timestamp'])\n",
    "\n",
    "df4['day_of_week'] = df4['timestamp'].dt.dayofweek"
   ]
  },
  {
   "cell_type": "code",
   "execution_count": 31,
   "metadata": {
    "collapsed": true
   },
   "outputs": [
    {
     "data": {
      "text/plain": [
       "0             \n",
       "1             \n",
       "2             \n",
       "3             \n",
       "4             \n",
       "5             \n",
       "6             \n",
       "7             \n",
       "8             \n",
       "9        doggo\n",
       "10            \n",
       "11            \n",
       "12       puppo\n",
       "13            \n",
       "14       puppo\n",
       "15            \n",
       "16            \n",
       "17            \n",
       "18            \n",
       "19            \n",
       "20            \n",
       "21            \n",
       "22            \n",
       "23            \n",
       "24            \n",
       "25            \n",
       "26            \n",
       "27            \n",
       "28      pupper\n",
       "30            \n",
       "         ...  \n",
       "2307          \n",
       "2308          \n",
       "2309          \n",
       "2310          \n",
       "2311          \n",
       "2312          \n",
       "2313          \n",
       "2314          \n",
       "2315          \n",
       "2316          \n",
       "2317          \n",
       "2318          \n",
       "2319          \n",
       "2320          \n",
       "2321          \n",
       "2322          \n",
       "2323          \n",
       "2324          \n",
       "2325          \n",
       "2326          \n",
       "2327          \n",
       "2328          \n",
       "2329          \n",
       "2330          \n",
       "2331          \n",
       "2332          \n",
       "2333          \n",
       "2334          \n",
       "2335          \n",
       "2336          \n",
       "Name: stage, Length: 2227, dtype: object"
      ]
     },
     "execution_count": 31,
     "metadata": {},
     "output_type": "execute_result"
    }
   ],
   "source": [
    "df4.stage"
   ]
  },
  {
   "cell_type": "code",
   "execution_count": 365,
   "metadata": {
    "collapsed": true
   },
   "outputs": [
    {
     "ename": "ValueError",
     "evalue": "The truth value of a Series is ambiguous. Use a.empty, a.bool(), a.item(), a.any() or a.all().",
     "output_type": "error",
     "traceback": [
      "\u001b[1;31m---------------------------------------------------------------------------\u001b[0m",
      "\u001b[1;31mValueError\u001b[0m                                Traceback (most recent call last)",
      "\u001b[1;32m<ipython-input-365-fee26ee27ef7>\u001b[0m in \u001b[0;36m<module>\u001b[1;34m\u001b[0m\n\u001b[0;32m      1\u001b[0m \u001b[0ma\u001b[0m \u001b[1;33m=\u001b[0m \u001b[1;33m[\u001b[0m\u001b[1;33m]\u001b[0m\u001b[1;33m\u001b[0m\u001b[1;33m\u001b[0m\u001b[0m\n\u001b[0;32m      2\u001b[0m \u001b[1;32mfor\u001b[0m \u001b[0md\u001b[0m \u001b[1;32min\u001b[0m \u001b[0mdf_image\u001b[0m\u001b[1;33m[\u001b[0m\u001b[1;34m'tweet_id'\u001b[0m\u001b[1;33m]\u001b[0m\u001b[1;33m:\u001b[0m\u001b[1;33m\u001b[0m\u001b[1;33m\u001b[0m\u001b[0m\n\u001b[1;32m----> 3\u001b[1;33m     \u001b[1;32mif\u001b[0m \u001b[0mdf_image\u001b[0m\u001b[1;33m[\u001b[0m\u001b[1;34m'p1_dog'\u001b[0m\u001b[1;33m]\u001b[0m \u001b[1;33m==\u001b[0m \u001b[1;32mTrue\u001b[0m\u001b[1;33m:\u001b[0m\u001b[1;33m\u001b[0m\u001b[1;33m\u001b[0m\u001b[0m\n\u001b[0m\u001b[0;32m      4\u001b[0m         \u001b[0ma\u001b[0m\u001b[1;33m.\u001b[0m\u001b[0mappend\u001b[0m\u001b[1;33m(\u001b[0m\u001b[0mdf_image\u001b[0m\u001b[1;33m[\u001b[0m\u001b[1;34m'p1'\u001b[0m\u001b[1;33m]\u001b[0m\u001b[1;33m)\u001b[0m\u001b[1;33m\u001b[0m\u001b[1;33m\u001b[0m\u001b[0m\n\u001b[0;32m      5\u001b[0m     \u001b[1;32melif\u001b[0m \u001b[0mdf_image\u001b[0m\u001b[1;33m[\u001b[0m\u001b[1;34m'p1_dog'\u001b[0m\u001b[1;33m]\u001b[0m \u001b[1;33m!=\u001b[0m \u001b[1;32mTrue\u001b[0m \u001b[1;33m&\u001b[0m \u001b[0mdf_image\u001b[0m\u001b[1;33m[\u001b[0m\u001b[1;34m'p2_dog'\u001b[0m\u001b[1;33m]\u001b[0m \u001b[1;33m==\u001b[0m \u001b[1;32mTrue\u001b[0m\u001b[1;33m:\u001b[0m\u001b[1;33m\u001b[0m\u001b[1;33m\u001b[0m\u001b[0m\n",
      "\u001b[1;32m~\\Anaconda3\\lib\\site-packages\\pandas\\core\\generic.py\u001b[0m in \u001b[0;36m__nonzero__\u001b[1;34m(self)\u001b[0m\n\u001b[0;32m   1477\u001b[0m         raise ValueError(\"The truth value of a {0} is ambiguous. \"\n\u001b[0;32m   1478\u001b[0m                          \u001b[1;34m\"Use a.empty, a.bool(), a.item(), a.any() or a.all().\"\u001b[0m\u001b[1;33m\u001b[0m\u001b[1;33m\u001b[0m\u001b[0m\n\u001b[1;32m-> 1479\u001b[1;33m                          .format(self.__class__.__name__))\n\u001b[0m\u001b[0;32m   1480\u001b[0m \u001b[1;33m\u001b[0m\u001b[0m\n\u001b[0;32m   1481\u001b[0m     \u001b[0m__bool__\u001b[0m \u001b[1;33m=\u001b[0m \u001b[0m__nonzero__\u001b[0m\u001b[1;33m\u001b[0m\u001b[1;33m\u001b[0m\u001b[0m\n",
      "\u001b[1;31mValueError\u001b[0m: The truth value of a Series is ambiguous. Use a.empty, a.bool(), a.item(), a.any() or a.all()."
     ]
    }
   ],
   "source": []
  },
  {
   "cell_type": "code",
   "execution_count": 44,
   "metadata": {},
   "outputs": [
    {
     "name": "stderr",
     "output_type": "stream",
     "text": [
      "C:\\Users\\Summer\\Anaconda3\\lib\\site-packages\\ipykernel_launcher.py:5: SettingWithCopyWarning: \n",
      "A value is trying to be set on a copy of a slice from a DataFrame.\n",
      "Try using .loc[row_indexer,col_indexer] = value instead\n",
      "\n",
      "See the caveats in the documentation: http://pandas.pydata.org/pandas-docs/stable/indexing.html#indexing-view-versus-copy\n",
      "  \"\"\"\n",
      "C:\\Users\\Summer\\Anaconda3\\lib\\site-packages\\ipykernel_launcher.py:6: SettingWithCopyWarning: \n",
      "A value is trying to be set on a copy of a slice from a DataFrame.\n",
      "Try using .loc[row_indexer,col_indexer] = value instead\n",
      "\n",
      "See the caveats in the documentation: http://pandas.pydata.org/pandas-docs/stable/indexing.html#indexing-view-versus-copy\n",
      "  \n",
      "C:\\Users\\Summer\\Anaconda3\\lib\\site-packages\\ipykernel_launcher.py:7: SettingWithCopyWarning: \n",
      "A value is trying to be set on a copy of a slice from a DataFrame.\n",
      "Try using .loc[row_indexer,col_indexer] = value instead\n",
      "\n",
      "See the caveats in the documentation: http://pandas.pydata.org/pandas-docs/stable/indexing.html#indexing-view-versus-copy\n",
      "  import sys\n"
     ]
    },
    {
     "data": {
      "text/plain": [
       "2075"
      ]
     },
     "execution_count": 44,
     "metadata": {},
     "output_type": "execute_result"
    }
   ],
   "source": [
    "df_1 = df_image.query('p1_dog == True')\n",
    "df_2 = df_image.query('p1_dog != True & p2_dog == True')\n",
    "df_3 = df_image.query('p1_dog != True & p2_dog != True & p3_dog == True')\n",
    "\n",
    "df_1['breed'] = df_1['p1']\n",
    "df_2['breed'] = df_2['p2']\n",
    "df_3['breed'] = df_3['p3']\n",
    "df_3.breed\n",
    "len(df_1) + len(df_2) + len(df_3)\n",
    "len(df_image)"
   ]
  },
  {
   "cell_type": "code",
   "execution_count": 45,
   "metadata": {},
   "outputs": [],
   "source": [
    "image_clean = pd.concat([df_1, df_2, df_3], axis=0, join='outer', join_axes=None, ignore_index=True,\n",
    "          keys=None, levels=None, names=None, verify_integrity=False,\n",
    "          copy=True)\n",
    "image_clean = image_clean[['tweet_id','breed']]"
   ]
  },
  {
   "cell_type": "code",
   "execution_count": 46,
   "metadata": {},
   "outputs": [
    {
     "name": "stdout",
     "output_type": "stream",
     "text": [
      "<class 'pandas.core.frame.DataFrame'>\n",
      "Int64Index: 2227 entries, 0 to 2336\n",
      "Data columns (total 10 columns):\n",
      "tweet_id            2227 non-null object\n",
      "timestamp           2227 non-null object\n",
      "source              2227 non-null object\n",
      "text                2227 non-null object\n",
      "expanded_urls       2227 non-null object\n",
      "rating_numerator    2227 non-null int64\n",
      "name                2205 non-null object\n",
      "retweet_count       2227 non-null object\n",
      "favorite_count      2227 non-null object\n",
      "stage               2227 non-null object\n",
      "dtypes: int64(1), object(9)\n",
      "memory usage: 191.4+ KB\n"
     ]
    },
    {
     "data": {
      "text/plain": [
       "False"
      ]
     },
     "execution_count": 46,
     "metadata": {},
     "output_type": "execute_result"
    }
   ],
   "source": [
    "#image['tweet_id']\n",
    "image_clean = image_clean.astype(str, copy=True)\n",
    "df4.merge(image_clean, how = 'left', on = 'tweet_id')\n",
    "df4.info()\n",
    "df4.tweet_id.duplicated().any()"
   ]
  },
  {
   "cell_type": "code",
   "execution_count": 47,
   "metadata": {
    "collapsed": true
   },
   "outputs": [
    {
     "data": {
      "text/plain": [
       "0             \n",
       "1             \n",
       "2             \n",
       "3             \n",
       "4             \n",
       "5             \n",
       "6             \n",
       "7             \n",
       "8             \n",
       "9        doggo\n",
       "10            \n",
       "11            \n",
       "12       puppo\n",
       "13            \n",
       "14       puppo\n",
       "15            \n",
       "16            \n",
       "17            \n",
       "18            \n",
       "19            \n",
       "20            \n",
       "21            \n",
       "22            \n",
       "23            \n",
       "24            \n",
       "25            \n",
       "26            \n",
       "27            \n",
       "28      pupper\n",
       "30            \n",
       "         ...  \n",
       "2307          \n",
       "2308          \n",
       "2309          \n",
       "2310          \n",
       "2311          \n",
       "2312          \n",
       "2313          \n",
       "2314          \n",
       "2315          \n",
       "2316          \n",
       "2317          \n",
       "2318          \n",
       "2319          \n",
       "2320          \n",
       "2321          \n",
       "2322          \n",
       "2323          \n",
       "2324          \n",
       "2325          \n",
       "2326          \n",
       "2327          \n",
       "2328          \n",
       "2329          \n",
       "2330          \n",
       "2331          \n",
       "2332          \n",
       "2333          \n",
       "2334          \n",
       "2335          \n",
       "2336          \n",
       "Name: stage, Length: 2227, dtype: object"
      ]
     },
     "execution_count": 47,
     "metadata": {},
     "output_type": "execute_result"
    }
   ],
   "source": []
  },
  {
   "cell_type": "markdown",
   "metadata": {},
   "source": [
    "Test:"
   ]
  },
  {
   "cell_type": "code",
   "execution_count": 36,
   "metadata": {},
   "outputs": [
    {
     "data": {
      "text/plain": [
       "(388, 12)"
      ]
     },
     "execution_count": 36,
     "metadata": {},
     "output_type": "execute_result"
    }
   ],
   "source": [
    "df_image.query('p1_dog != True & p2_dog != True & p2_dog != True').shape"
   ]
  },
  {
   "cell_type": "markdown",
   "metadata": {},
   "source": [
    "Re extract data to test its accuracy"
   ]
  },
  {
   "cell_type": "code",
   "execution_count": 187,
   "metadata": {},
   "outputs": [],
   "source": [
    "df_test = pd.DataFrame(columns=['tweet_id', 'text'])\n",
    "with open('tweet_json.txt') as f:\n",
    "    for line in f:\n",
    "        status  = json.loads(line)\n",
    "        tweet_id = status['id_str']\n",
    "        text = status['full_text']\n",
    "        df_test = df_test.append(pd.DataFrame([[tweet_id, text]],\n",
    "                                        columns=['tweet_id', 'text']))\n",
    "df_test = df_test.reset_index(drop=True)\n"
   ]
  },
  {
   "cell_type": "code",
   "execution_count": 198,
   "metadata": {},
   "outputs": [],
   "source": [
    "df_test = df_test[df_test['tweet_id'].isin(df4['tweet_id'])]\n",
    "                  \n",
    "df_test['rating'] = df_test.text.str.findall(r'(\\d+/10)')\n",
    "a = df_test['rating'].str.extract(r'(/+){2}')\n",
    "#df_test.rating.value_counts()\n",
    "#df4.rating_numerator.value_counts()\n",
    "#a = df_test['rating'].str.findall(r'.{6,}$')\n",
    "#a.value_counts()\n",
    "#^[a-zA-Z]{3,7}$\n",
    "df_test.to_csv('df_test.csv')\n"
   ]
  },
  {
   "cell_type": "code",
   "execution_count": 199,
   "metadata": {},
   "outputs": [],
   "source": [
    "#df_test.rating.str.findall(r'(\\d+/10){2}')\n",
    "#df_test.rating.count('/')\n",
    "#str(count['e'])\n",
    "#len(re.findall(\"/\", df_test['rating'])) \n",
    "#df_test['rating'].str.findall('/') \n",
    "df_test = df_test[(df_test['rating'].str.len() < 2) & (df_test['rating'].str.len() > 0)]\n",
    "\n",
    "df_test.rating = df_test.rating.str.get(0)"
   ]
  },
  {
   "cell_type": "code",
   "execution_count": 200,
   "metadata": {},
   "outputs": [],
   "source": [
    "df_test.rating.str.split('/', expand = True)\n",
    "df_test.rating  = df_test.rating.str.split('/', expand = True)[0]"
   ]
  },
  {
   "cell_type": "code",
   "execution_count": 203,
   "metadata": {},
   "outputs": [
    {
     "data": {
      "text/plain": [
       "2192"
      ]
     },
     "execution_count": 203,
     "metadata": {},
     "output_type": "execute_result"
    }
   ],
   "source": [
    "df_test.rating.value_counts()\n",
    "len(df4)\n",
    "len(df_test)"
   ]
  },
  {
   "cell_type": "markdown",
   "metadata": {},
   "source": [
    "\n",
    "666287406224695296\n",
    "749981277374128128 1776\n",
    "670842764863651840 420\n",
    "75        2 \n",
    "832215909146226688 should be 9.75\n",
    "\n",
    "0         1\n",
    "26        1 look at 683773439333797890\n",
    "27  "
   ]
  },
  {
   "cell_type": "code",
   "execution_count": 207,
   "metadata": {},
   "outputs": [
    {
     "data": {
      "text/plain": [
       "(2192, 3)"
      ]
     },
     "execution_count": 207,
     "metadata": {},
     "output_type": "execute_result"
    }
   ],
   "source": [
    "df_test.to_csv('df_test.csv')\n",
    "df_test.shape"
   ]
  },
  {
   "cell_type": "code",
   "execution_count": 39,
   "metadata": {},
   "outputs": [
    {
     "data": {
      "text/plain": [
       "731156023742988288"
      ]
     },
     "execution_count": 39,
     "metadata": {},
     "output_type": "execute_result"
    }
   ],
   "source": [
    "\n",
    "731156023742988288\n"
   ]
  },
  {
   "cell_type": "code",
   "execution_count": null,
   "metadata": {},
   "outputs": [],
   "source": []
  },
  {
   "cell_type": "code",
   "execution_count": null,
   "metadata": {},
   "outputs": [],
   "source": []
  },
  {
   "cell_type": "code",
   "execution_count": 510,
   "metadata": {},
   "outputs": [
    {
     "data": {
      "text/plain": [
       "Series([], Name: stage, dtype: int64)"
      ]
     },
     "execution_count": 510,
     "metadata": {},
     "output_type": "execute_result"
    }
   ],
   "source": []
  },
  {
   "cell_type": "code",
   "execution_count": null,
   "metadata": {},
   "outputs": [],
   "source": [
    "change variable types\n",
    "tweetid should be a string\n",
    "stage characters should be categories "
   ]
  },
  {
   "cell_type": "code",
   "execution_count": null,
   "metadata": {},
   "outputs": [],
   "source": []
  },
  {
   "cell_type": "code",
   "execution_count": null,
   "metadata": {},
   "outputs": [],
   "source": []
  },
  {
   "cell_type": "markdown",
   "metadata": {},
   "source": [
    "fix the names column\n",
    "meet, this is, "
   ]
  },
  {
   "cell_type": "markdown",
   "metadata": {},
   "source": [
    "Delete the rating denomenator"
   ]
  },
  {
   "cell_type": "markdown",
   "metadata": {
    "collapsed": true
   },
   "source": [
    "images: extract type of dog and merge with bigger table\n"
   ]
  },
  {
   "cell_type": "code",
   "execution_count": null,
   "metadata": {},
   "outputs": [],
   "source": [
    "import matplotlib \n",
    "import seaborn\n",
    "df4['stage'].plot()"
   ]
  },
  {
   "cell_type": "markdown",
   "metadata": {},
   "source": [
    "plt.style.use('seaborn-darkgrid')\n",
    "oil_trans.mean(axis = 1).plot()\n",
    "plt.title(\"Global Oil Production\")\n",
    "plt.ylabel('Tonnes Oil Equvalent')"
   ]
  },
  {
   "cell_type": "markdown",
   "metadata": {},
   "source": [
    "y1 = gdp_trans.mean(axis = 1)\n",
    "y2 = gdp_oil_trans.mean(axis = 1)\n",
    "plt.title(\"GDP/capita\")\n",
    "plt.ylabel('International dollars')\n",
    "all_countries = plt.plot(y1)\n",
    "oil_producing_countries = plt.plot(y2)\n",
    "plt.legend( ['All Countries', 'Oil Producing Countries'])"
   ]
  },
  {
   "cell_type": "markdown",
   "metadata": {},
   "source": [
    "oil_gdp = gdp_oil.mean().mean()\n",
    "global_gdp = gdp.mean().mean()\n",
    "height = [global_gdp, oil_gdp]\n",
    "bars = ('All Countries', 'Oil Countries')\n",
    "y_pos = np.arange(len(bars))\n",
    "plt.bar(y_pos,height, width = .4, color = ['red', 'blue'])\n",
    "plt.ylabel('International Dollars')\n",
    "plt.xticks(y_pos, bars)\n",
    "plt.title('Average GDP/capita')"
   ]
  },
  {
   "cell_type": "markdown",
   "metadata": {},
   "source": [
    "oil_level = agg_df.groupby(['oil_prod_level']).mean()\n",
    "oil_plot = oil_level.plot(y = 'mean_gini', kind = 'bar', yticks = [10,20,30, 40, 50], color = ['blue', 'green', 'purple', 'red'], legend = False)\n",
    "oil_plot.set_title('GINI Index by amount of oil production')\n",
    "oil_plot.set_ylabel('GINI Index(%)')"
   ]
  },
  {
   "cell_type": "markdown",
   "metadata": {},
   "source": [
    "agg_df['gdp_level'] = agg_df['mean_gdp'].apply(gdp_level)\n",
    "\n",
    "oil_gdp_level = agg_df.groupby(['gdp_level', 'oil_prod_level']).mean()\n",
    "oil_gdp_plot = oil_gdp_level.unstack().plot(y = 'mean_gini', kind='bar')\n",
    "oil_gdp_plot.set_ylabel('GINI Index(%)')\n",
    "oil_gdp_plot.set_title('GINI index grouped by Oil Production and GDP')"
   ]
  }
 ],
 "metadata": {
  "kernelspec": {
   "display_name": "Python 3",
   "language": "python",
   "name": "python3"
  },
  "language_info": {
   "codemirror_mode": {
    "name": "ipython",
    "version": 3
   },
   "file_extension": ".py",
   "mimetype": "text/x-python",
   "name": "python",
   "nbconvert_exporter": "python",
   "pygments_lexer": "ipython3",
   "version": "3.7.2"
  }
 },
 "nbformat": 4,
 "nbformat_minor": 2
}
