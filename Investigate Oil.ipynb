{
 "cells": [
  {
   "cell_type": "markdown",
   "metadata": {},
   "source": [
    "\n",
    "# Investigation into Oil production, GDP/capita and Equality\n",
    "\n",
    "## Table of Contents\n",
    "<ul>\n",
    "<li><a href=\"#intro\">Introduction</a></li>\n",
    "<li><a href=\"#wrangling\">Data Wrangling</a></li>\n",
    "<li><a href=\"#eda\">Exploratory Data Analysis</a></li>\n",
    "<li><a href=\"#conclusions\">Conclusions</a></li>\n",
    "</ul>"
   ]
  },
  {
   "cell_type": "markdown",
   "metadata": {},
   "source": [
    "<a id='intro'></a>\n",
    "## Introduction\n",
    "\n",
    "> This report will explore country data on GDP/capita, and inequality (GINI index), and oil production. I am curious about the relationships among these and how they have developed over time. I started this project with some assumptions. I assume that both oil production and GDP/capita have grown substantially over the last decades and that they are tightly correlated. This is intuitive, because conomic growth increases demand for oil and high oil production will consitute a high contribution to the economy. However, I did not know what to expect among relationships between oil producing countries in respect to GDP and inequality. I did not know whether oil producing countries in general are richer or poorer than other countries. The oil production would be contribute to GDP, but perhaps oil production may interfere with the diversification of the economy among less developed countries. Furthermore, I was even more unsure about oil production and equality. On one hand, oil production would increase inequality if it stays in the hands of a few, but could also increase the states' ability to redistribute wealth.\n",
    "\n",
    ">I used three csv files from Gapminder websie, from the most recent data sets with the following file names: 'oil_production_total.csv','inequality_index_gini.csv', and 'income_per_person_gdppercapita_ppp_inflation_adjusted.csv'."
   ]
  },
  {
   "cell_type": "code",
   "execution_count": 418,
   "metadata": {},
   "outputs": [],
   "source": [
    "import pandas as pd\n",
    "import numpy as np\n",
    "import matplotlib\n",
    "%matplotlib inline \n",
    "import matplotlib.pyplot as plt\n",
    "import seaborn as sns"
   ]
  },
  {
   "cell_type": "markdown",
   "metadata": {},
   "source": [
    "<a id='wrangling'></a>\n",
    "## Data Wrangling\n",
    "\n",
    "> Cleaning of the data has two main parts. In one part, I will look at GDP/capita and oil production over time. Oil production is only measured from 1965 - 2016, so I will eliminate measurements in the GDP data that are beyond this range. I will divide the data into two groups: Oil producing countries and countries overall. I will transpose the tables in order to make it easier to use the .plot method and change the year to datetime objects. \n",
    "\n",
    "In the second part, I will eliminate time as a variable. To do this,  I must either select one point of time or aggredate the data. I have chosen to aggregate. The following variables were created: Total of all oil production per country from 1965 - 2016, mean GDP/capita from 1965 - 2016, and mean GINI index from 1979 to 2016. The GINI index time period does not correspond exactly with the other period because it is a relatively new way to measure equality, but these time periods are close enough for the relationships to provide insight. \n",
    "\n",
    "Note = GINI index is a measurement from 0% - 100%. 0% indicates perfect equalilty while 100% equals extreme inequality.\n",
    "\n",
    "Column names for all data sets are years, and the row names are countries. The range of years and numbers of countries included vary."
   ]
  },
  {
   "cell_type": "code",
   "execution_count": 419,
   "metadata": {},
   "outputs": [],
   "source": [
    "oil = pd.read_csv('oil_production_total.csv')\n",
    "gini = pd.read_csv('inequality_index_gini.csv')\n",
    "gdp = pd.read_csv('income_per_person_gdppercapita_ppp_inflation_adjusted.csv')\n"
   ]
  },
  {
   "cell_type": "markdown",
   "metadata": {},
   "source": [
    "   ## Cleaning Part One: Transposing the data sets"
   ]
  },
  {
   "cell_type": "code",
   "execution_count": 420,
   "metadata": {},
   "outputs": [],
   "source": [
    "##GDP data is limited to 1965- 2016 and transposed\n",
    "gdp = gdp[oil.columns]\n",
    "gdp_trans = gdp.set_index('country').T.rename_axis('Date').rename_axis( None, axis=\"columns\")\n",
    "gdp_trans.index= pd.to_datetime(gdp_trans.index).year\n"
   ]
  },
  {
   "cell_type": "code",
   "execution_count": 421,
   "metadata": {},
   "outputs": [
    {
     "data": {
      "text/html": [
       "<div>\n",
       "<style scoped>\n",
       "    .dataframe tbody tr th:only-of-type {\n",
       "        vertical-align: middle;\n",
       "    }\n",
       "\n",
       "    .dataframe tbody tr th {\n",
       "        vertical-align: top;\n",
       "    }\n",
       "\n",
       "    .dataframe thead th {\n",
       "        text-align: right;\n",
       "    }\n",
       "</style>\n",
       "<table border=\"1\" class=\"dataframe\">\n",
       "  <thead>\n",
       "    <tr style=\"text-align: right;\">\n",
       "      <th></th>\n",
       "      <th>Algeria</th>\n",
       "      <th>Angola</th>\n",
       "      <th>Argentina</th>\n",
       "      <th>Australia</th>\n",
       "      <th>Azerbaijan</th>\n",
       "      <th>Brazil</th>\n",
       "      <th>Brunei</th>\n",
       "      <th>Canada</th>\n",
       "      <th>Chad</th>\n",
       "      <th>China</th>\n",
       "      <th>...</th>\n",
       "      <th>Trinidad and Tobago</th>\n",
       "      <th>Tunisia</th>\n",
       "      <th>Turkmenistan</th>\n",
       "      <th>United Arab Emirates</th>\n",
       "      <th>United Kingdom</th>\n",
       "      <th>United States</th>\n",
       "      <th>Uzbekistan</th>\n",
       "      <th>Venezuela</th>\n",
       "      <th>Vietnam</th>\n",
       "      <th>Yemen</th>\n",
       "    </tr>\n",
       "    <tr>\n",
       "      <th>Date</th>\n",
       "      <th></th>\n",
       "      <th></th>\n",
       "      <th></th>\n",
       "      <th></th>\n",
       "      <th></th>\n",
       "      <th></th>\n",
       "      <th></th>\n",
       "      <th></th>\n",
       "      <th></th>\n",
       "      <th></th>\n",
       "      <th></th>\n",
       "      <th></th>\n",
       "      <th></th>\n",
       "      <th></th>\n",
       "      <th></th>\n",
       "      <th></th>\n",
       "      <th></th>\n",
       "      <th></th>\n",
       "      <th></th>\n",
       "      <th></th>\n",
       "      <th></th>\n",
       "    </tr>\n",
       "  </thead>\n",
       "  <tbody>\n",
       "    <tr>\n",
       "      <th>1965</th>\n",
       "      <td>5960</td>\n",
       "      <td>4960</td>\n",
       "      <td>10300</td>\n",
       "      <td>16600</td>\n",
       "      <td>6010</td>\n",
       "      <td>4670</td>\n",
       "      <td>72900</td>\n",
       "      <td>17300</td>\n",
       "      <td>1390</td>\n",
       "      <td>774</td>\n",
       "      <td>...</td>\n",
       "      <td>9110</td>\n",
       "      <td>2720</td>\n",
       "      <td>8290</td>\n",
       "      <td>8350</td>\n",
       "      <td>15400</td>\n",
       "      <td>21400</td>\n",
       "      <td>2780</td>\n",
       "      <td>14000</td>\n",
       "      <td>1260</td>\n",
       "      <td>1460</td>\n",
       "    </tr>\n",
       "    <tr>\n",
       "      <th>1966</th>\n",
       "      <td>5520</td>\n",
       "      <td>5170</td>\n",
       "      <td>10200</td>\n",
       "      <td>16700</td>\n",
       "      <td>6240</td>\n",
       "      <td>4840</td>\n",
       "      <td>74200</td>\n",
       "      <td>18100</td>\n",
       "      <td>1330</td>\n",
       "      <td>829</td>\n",
       "      <td>...</td>\n",
       "      <td>9380</td>\n",
       "      <td>2730</td>\n",
       "      <td>8600</td>\n",
       "      <td>14200</td>\n",
       "      <td>15600</td>\n",
       "      <td>22500</td>\n",
       "      <td>2880</td>\n",
       "      <td>13800</td>\n",
       "      <td>1230</td>\n",
       "      <td>1480</td>\n",
       "    </tr>\n",
       "    <tr>\n",
       "      <th>1967</th>\n",
       "      <td>5860</td>\n",
       "      <td>5390</td>\n",
       "      <td>10400</td>\n",
       "      <td>17600</td>\n",
       "      <td>6460</td>\n",
       "      <td>4890</td>\n",
       "      <td>75400</td>\n",
       "      <td>18300</td>\n",
       "      <td>1310</td>\n",
       "      <td>722</td>\n",
       "      <td>...</td>\n",
       "      <td>9510</td>\n",
       "      <td>2650</td>\n",
       "      <td>8890</td>\n",
       "      <td>24100</td>\n",
       "      <td>15900</td>\n",
       "      <td>22800</td>\n",
       "      <td>2980</td>\n",
       "      <td>14200</td>\n",
       "      <td>1050</td>\n",
       "      <td>1500</td>\n",
       "    </tr>\n",
       "    <tr>\n",
       "      <th>1968</th>\n",
       "      <td>6370</td>\n",
       "      <td>5230</td>\n",
       "      <td>10700</td>\n",
       "      <td>18300</td>\n",
       "      <td>6780</td>\n",
       "      <td>5220</td>\n",
       "      <td>76700</td>\n",
       "      <td>19000</td>\n",
       "      <td>1280</td>\n",
       "      <td>671</td>\n",
       "      <td>...</td>\n",
       "      <td>9980</td>\n",
       "      <td>2870</td>\n",
       "      <td>9330</td>\n",
       "      <td>29000</td>\n",
       "      <td>16500</td>\n",
       "      <td>23600</td>\n",
       "      <td>3120</td>\n",
       "      <td>14700</td>\n",
       "      <td>1000</td>\n",
       "      <td>1510</td>\n",
       "    </tr>\n",
       "    <tr>\n",
       "      <th>1969</th>\n",
       "      <td>6810</td>\n",
       "      <td>5300</td>\n",
       "      <td>11400</td>\n",
       "      <td>18900</td>\n",
       "      <td>6820</td>\n",
       "      <td>5560</td>\n",
       "      <td>78000</td>\n",
       "      <td>19700</td>\n",
       "      <td>1340</td>\n",
       "      <td>735</td>\n",
       "      <td>...</td>\n",
       "      <td>10300</td>\n",
       "      <td>2920</td>\n",
       "      <td>9380</td>\n",
       "      <td>34800</td>\n",
       "      <td>16800</td>\n",
       "      <td>24100</td>\n",
       "      <td>3140</td>\n",
       "      <td>14700</td>\n",
       "      <td>1060</td>\n",
       "      <td>1530</td>\n",
       "    </tr>\n",
       "  </tbody>\n",
       "</table>\n",
       "<p>5 rows × 49 columns</p>\n",
       "</div>"
      ],
      "text/plain": [
       "      Algeria  Angola  Argentina  Australia  Azerbaijan  Brazil  Brunei  \\\n",
       "Date                                                                      \n",
       "1965     5960    4960      10300      16600        6010    4670   72900   \n",
       "1966     5520    5170      10200      16700        6240    4840   74200   \n",
       "1967     5860    5390      10400      17600        6460    4890   75400   \n",
       "1968     6370    5230      10700      18300        6780    5220   76700   \n",
       "1969     6810    5300      11400      18900        6820    5560   78000   \n",
       "\n",
       "      Canada  Chad  China  ...  Trinidad and Tobago  Tunisia  Turkmenistan  \\\n",
       "Date                       ...                                               \n",
       "1965   17300  1390    774  ...                 9110     2720          8290   \n",
       "1966   18100  1330    829  ...                 9380     2730          8600   \n",
       "1967   18300  1310    722  ...                 9510     2650          8890   \n",
       "1968   19000  1280    671  ...                 9980     2870          9330   \n",
       "1969   19700  1340    735  ...                10300     2920          9380   \n",
       "\n",
       "      United Arab Emirates  United Kingdom  United States  Uzbekistan  \\\n",
       "Date                                                                    \n",
       "1965                  8350           15400          21400        2780   \n",
       "1966                 14200           15600          22500        2880   \n",
       "1967                 24100           15900          22800        2980   \n",
       "1968                 29000           16500          23600        3120   \n",
       "1969                 34800           16800          24100        3140   \n",
       "\n",
       "      Venezuela  Vietnam  Yemen  \n",
       "Date                             \n",
       "1965      14000     1260   1460  \n",
       "1966      13800     1230   1480  \n",
       "1967      14200     1050   1500  \n",
       "1968      14700     1000   1510  \n",
       "1969      14700     1060   1530  \n",
       "\n",
       "[5 rows x 49 columns]"
      ]
     },
     "execution_count": 421,
     "metadata": {},
     "output_type": "execute_result"
    }
   ],
   "source": [
    "## oil producer's gdp is isolated from global gdp\n",
    "gdp_oil_trans = gdp_oil.set_index('country').T.rename_axis('Date').rename_axis( None, axis=\"columns\")\n",
    "gdp_oil_trans.index= pd.to_datetime(gdp_oil_trans.index).year\n",
    "gdp_oil = gdp[gdp['country'].isin(oil['country'])]\n",
    "gdp_oil_trans.head()"
   ]
  },
  {
   "cell_type": "code",
   "execution_count": 422,
   "metadata": {},
   "outputs": [],
   "source": [
    "## oil data transposed\n",
    "oil_trans = oil.set_index('country').T.rename_axis('date').rename_axis( None, axis=\"columns\")\n",
    "oil_trans.index= pd.to_datetime(oil_trans.index, format = '%Y').year"
   ]
  },
  {
   "cell_type": "markdown",
   "metadata": {},
   "source": [
    "  ## Cleaning Part Two: Aggregating into one table"
   ]
  },
  {
   "cell_type": "code",
   "execution_count": 470,
   "metadata": {},
   "outputs": [],
   "source": [
    "## new variable names were assigned to the raw dataframes to keep them from interferring with the operations above. \n",
    "##Again, the GDP data is limited to 1965 - 2016.\n",
    "oil1 = pd.read_csv('oil_production_total.csv')\n",
    "gini1 = pd.read_csv('inequality_index_gini.csv')\n",
    "gdp1 = pd.read_csv('income_per_person_gdppercapita.csv')\n",
    "gdp1 = gdp1[oil1.columns]"
   ]
  },
  {
   "cell_type": "code",
   "execution_count": 471,
   "metadata": {},
   "outputs": [],
   "source": [
    "##new columns are added to the gdp and oil dataframes\n",
    "oil1['total_oil'] = oil1.sum(axis = 1)\n",
    "gdp1['mean_gdp'] = gdp1.mean(axis=1)\n",
    "gini1['mean_gini'] = gini1.mean(axis = 1)"
   ]
  },
  {
   "cell_type": "code",
   "execution_count": 472,
   "metadata": {},
   "outputs": [],
   "source": [
    "## The tables are merged and then a new dataframe is created including only country and the aggregated columns. \n",
    "##A round method was also used for readability.\n",
    "merge1 = gdp1.merge(oil1, how = 'left', left_on='country', right_on = 'country')\n",
    "merge2 = merge1.merge(gini1, how = 'left', left_on = 'country', right_on = 'country')\n",
    "agg_df =merge2[['country', 'mean_gdp', 'mean_gini', 'total_oil']]\n",
    "agg_df = agg_df.round(2)\n",
    "df1 = agg_df[agg_df['mean_gini'].isnull()]\n"
   ]
  },
  {
   "cell_type": "code",
   "execution_count": 473,
   "metadata": {},
   "outputs": [
    {
     "data": {
      "text/html": [
       "<div>\n",
       "<style scoped>\n",
       "    .dataframe tbody tr th:only-of-type {\n",
       "        vertical-align: middle;\n",
       "    }\n",
       "\n",
       "    .dataframe tbody tr th {\n",
       "        vertical-align: top;\n",
       "    }\n",
       "\n",
       "    .dataframe thead th {\n",
       "        text-align: right;\n",
       "    }\n",
       "</style>\n",
       "<table border=\"1\" class=\"dataframe\">\n",
       "  <thead>\n",
       "    <tr style=\"text-align: right;\">\n",
       "      <th></th>\n",
       "      <th>country</th>\n",
       "      <th>mean_gdp</th>\n",
       "      <th>mean_gini</th>\n",
       "      <th>total_oil</th>\n",
       "    </tr>\n",
       "  </thead>\n",
       "  <tbody>\n",
       "    <tr>\n",
       "      <th>0</th>\n",
       "      <td>Afghanistan</td>\n",
       "      <td>1222.81</td>\n",
       "      <td>39.646375</td>\n",
       "      <td>0.000000e+00</td>\n",
       "    </tr>\n",
       "    <tr>\n",
       "      <th>1</th>\n",
       "      <td>Albania</td>\n",
       "      <td>5616.92</td>\n",
       "      <td>29.660000</td>\n",
       "      <td>0.000000e+00</td>\n",
       "    </tr>\n",
       "    <tr>\n",
       "      <th>2</th>\n",
       "      <td>Algeria</td>\n",
       "      <td>10123.46</td>\n",
       "      <td>34.370000</td>\n",
       "      <td>3.047000e+09</td>\n",
       "    </tr>\n",
       "    <tr>\n",
       "      <th>3</th>\n",
       "      <td>Andorra</td>\n",
       "      <td>33146.15</td>\n",
       "      <td>39.646375</td>\n",
       "      <td>0.000000e+00</td>\n",
       "    </tr>\n",
       "    <tr>\n",
       "      <th>4</th>\n",
       "      <td>Angola</td>\n",
       "      <td>4686.35</td>\n",
       "      <td>47.350000</td>\n",
       "      <td>1.726073e+09</td>\n",
       "    </tr>\n",
       "  </tbody>\n",
       "</table>\n",
       "</div>"
      ],
      "text/plain": [
       "       country  mean_gdp  mean_gini     total_oil\n",
       "0  Afghanistan   1222.81  39.646375  0.000000e+00\n",
       "1      Albania   5616.92  29.660000  0.000000e+00\n",
       "2      Algeria  10123.46  34.370000  3.047000e+09\n",
       "3      Andorra  33146.15  39.646375  0.000000e+00\n",
       "4       Angola   4686.35  47.350000  1.726073e+09"
      ]
     },
     "execution_count": 473,
     "metadata": {},
     "output_type": "execute_result"
    }
   ],
   "source": [
    "## Null values in the total oil column are filled with 0.\n",
    "## Null values in the mean gini column are filled with the mean of all rows in that column.\n",
    "agg_df['total_oil'].fillna(0, inplace = True)\n",
    "agg_df['mean_gini'].value_counts()\n",
    "avg_gini = agg_df['mean_gini'].mean()\n",
    "agg_df['mean_gini'].fillna(avg_gini, inplace = True)\n",
    "agg_df.head()"
   ]
  },
  {
   "cell_type": "markdown",
   "metadata": {},
   "source": [
    "#### Note about filling the null values: \n",
    "#### Null values in total_oil are filled with 0. I am making the assumption that countries that are not present in the Oil production data set produce no oil, athough this may be incorrect.\n",
    "\n",
    "#### 33 out of 193 countries are missing from the GINI index data. I filled values for countries that have no GINI measurements with the mean of the mean GINI index. Some major oil producers are among those that are missing GINI values, so the usefulness for finding relationships between oil production and inequality is limited.  "
   ]
  },
  {
   "cell_type": "markdown",
   "metadata": {},
   "source": [
    "<a id='eda'></a>\n",
    "## Exploratory Data Analysis\n",
    "\n",
    "\n",
    "\n",
    "## Research Question 1: How have oil production and GDP/capita changed since 1965 global GDP and how does GDP/capita for oil producing countries compare to GDP/capita to all countries?"
   ]
  },
  {
   "cell_type": "markdown",
   "metadata": {},
   "source": []
  },
  {
   "cell_type": "code",
   "execution_count": 474,
   "metadata": {},
   "outputs": [
    {
     "data": {
      "text/plain": [
       "Text(0, 0.5, 'Tonnes Oil Equvalent')"
      ]
     },
     "execution_count": 474,
     "metadata": {},
     "output_type": "execute_result"
    },
    {
     "data": {
      "image/png": "[encoded data removed]",
      "text/plain": [
       "<Figure size 432x288 with 1 Axes>"
      ]
     },
     "metadata": {},
     "output_type": "display_data"
    }
   ],
   "source": [
    "## A line graph is produced to show the change in oil production since 1965.\n",
    "plt.style.use('seaborn-darkgrid')\n",
    "oil_trans.mean(axis = 1).plot()\n",
    "plt.title(\"Global Oil Production\")\n",
    "plt.ylabel('Tonnes Oil Equvalent')"
   ]
  },
  {
   "cell_type": "markdown",
   "metadata": {},
   "source": [
    "### Oil production has grown fairly steadily  since 1965 but there was a steep fall around 1980."
   ]
  },
  {
   "cell_type": "code",
   "execution_count": 475,
   "metadata": {},
   "outputs": [
    {
     "data": {
      "text/plain": [
       "<matplotlib.legend.Legend at 0x25ba8507080>"
      ]
     },
     "execution_count": 475,
     "metadata": {},
     "output_type": "execute_result"
    },
    {
     "data": {
      "image/png": "[encoded data removed]",
      "text/plain": [
       "<Figure size 432x288 with 1 Axes>"
      ]
     },
     "metadata": {},
     "output_type": "display_data"
    }
   ],
   "source": [
    "## A line graph is produced including GDP/capita data for both all countries as well as just oil producing countries.\n",
    "y1 = gdp_trans.mean(axis = 1)\n",
    "y2 = gdp_oil_trans.mean(axis = 1)\n",
    "plt.title(\"GDP/capita\")\n",
    "plt.ylabel('International dollars')\n",
    "all_countries = plt.plot(y1)\n",
    "oil_producing_countries = plt.plot(y2)\n",
    "plt.legend( ['All Countries', 'Oil Producing Countries'])"
   ]
  },
  {
   "cell_type": "markdown",
   "metadata": {},
   "source": [
    "### Global GDP/capita has risen strongly since 1965\n",
    "### Oil Producers' GDP/capita has also increased, but has done so less steadily. It peaked in 1980 and did not reach the the same level again until 2005. "
   ]
  },
  {
   "cell_type": "code",
   "execution_count": 476,
   "metadata": {},
   "outputs": [
    {
     "data": {
      "text/plain": [
       "Text(0.5, 1.0, 'Average GDP/capita')"
      ]
     },
     "execution_count": 476,
     "metadata": {},
     "output_type": "execute_result"
    },
    {
     "data": {
      "image/png": "[encoded data removed]",
      "text/plain": [
       "<Figure size 432x288 with 1 Axes>"
      ]
     },
     "metadata": {},
     "output_type": "display_data"
    }
   ],
   "source": [
    "## A bar graph is created from the GDP/capita data by finding the mean of means of all countries as well as just oil producing countries. \n",
    "oil_gdp = gdp_oil.mean().mean()\n",
    "global_gdp = gdp.mean().mean()\n",
    "height = [global_gdp, oil_gdp]\n",
    "bars = ('All Countries', 'Oil Countries')\n",
    "y_pos = np.arange(len(bars))\n",
    "plt.bar(y_pos,height, width = .4, color = ['red', 'blue'])\n",
    "plt.ylabel('International Dollars')\n",
    "plt.xticks(y_pos, bars)\n",
    "plt.title('Average GDP/capita')\n"
   ]
  },
  {
   "cell_type": "markdown",
   "metadata": {},
   "source": [
    "### Oil countries have a higher GDP/capita than countries overall."
   ]
  },
  {
   "cell_type": "markdown",
   "metadata": {},
   "source": [
    "## Question 2: How do different levels of oil production relate to GDP/capita and equality? Does the amount of oil production matter for GDP/capita and equality? Are the relationships different for lower income countries than higher income countries?"
   ]
  },
  {
   "cell_type": "code",
   "execution_count": null,
   "metadata": {},
   "outputs": [],
   "source": []
  },
  {
   "cell_type": "code",
   "execution_count": 477,
   "metadata": {},
   "outputs": [
    {
     "data": {
      "text/plain": [
       "(49, 54)"
      ]
     },
     "execution_count": 477,
     "metadata": {},
     "output_type": "execute_result"
    }
   ],
   "source": [
    "##  Quartiles are found so that I can group by the level of total oil production.  \n",
    "oil1.sum(axis = 1).describe()\n",
    "oil1.shape"
   ]
  },
  {
   "cell_type": "code",
   "execution_count": 478,
   "metadata": {},
   "outputs": [
    {
     "data": {
      "text/plain": [
       "none            144\n",
       "1st quartile     20\n",
       "3rd quartile     13\n",
       "2nd quartile     12\n",
       "4th quartile      4\n",
       "Name: oil_prod_level, dtype: int64"
      ]
     },
     "execution_count": 478,
     "metadata": {},
     "output_type": "execute_result"
    }
   ],
   "source": [
    "## a function is created to divide oil producers into levels of production by quartile as well as \"none\" for no oil production \n",
    "## and to create a new column.\n",
    "def oil_level(total_oil):\n",
    "    if total_oil >= 7.608400e+09:\n",
    "        return '4th quartile'\n",
    "    elif total_oil >= 2.706020e+09 and total_oil < 7.608400e+09:\n",
    "        return '3rd quartile'\n",
    "    elif total_oil >=7.897000e+08 and total_oil <2.706020e+09:\n",
    "        return '2nd quartile'\n",
    "    elif total_oil >2 and total_oil <=7.897000e+08:\n",
    "        return '1st quartile'\n",
    "    else:\n",
    "        return 'none'\n",
    "\n",
    "agg_df['oil_prod_level'] = agg_df['total_oil'].apply(oil_level)\n",
    "agg_df['oil_prod_level'].value_counts()"
   ]
  },
  {
   "cell_type": "code",
   "execution_count": 439,
   "metadata": {},
   "outputs": [
    {
     "data": {
      "text/plain": [
       "Text(0, 0.5, 'GINI Index(%)')"
      ]
     },
     "execution_count": 439,
     "metadata": {},
     "output_type": "execute_result"
    },
    {
     "data": {
      "image/png": "[encoded data removed]",
      "text/plain": [
       "<Figure size 432x288 with 1 Axes>"
      ]
     },
     "metadata": {},
     "output_type": "display_data"
    }
   ],
   "source": [
    "oil_level = agg_df.groupby(['oil_prod_level']).mean()\n",
    "oil_plot = oil_level.plot(y = 'mean_gini', kind = 'bar', yticks = [10,20,30, 40, 50], color = ['blue', 'green', 'purple', 'red'], legend = False)\n",
    "oil_plot.set_title('GINI Index by amount of oil production')\n",
    "oil_plot.set_ylabel('GINI Index(%)')"
   ]
  },
  {
   "cell_type": "markdown",
   "metadata": {},
   "source": [
    "### The equality index is similar for all levels of oil production. There does not seem to be a strong relationship between inequality and oil production. "
   ]
  },
  {
   "cell_type": "code",
   "execution_count": 441,
   "metadata": {},
   "outputs": [
    {
     "data": {
      "text/plain": [
       "count       193.000000\n",
       "mean      12815.568653\n",
       "std       16210.232166\n",
       "min         585.634615\n",
       "25%        2657.307692\n",
       "50%        6786.923077\n",
       "75%       16260.769231\n",
       "max      108390.384615\n",
       "dtype: float64"
      ]
     },
     "execution_count": 441,
     "metadata": {},
     "output_type": "execute_result"
    }
   ],
   "source": [
    "## So that I can find out whethere GDP/capita may influence the relationship between oil and equality, \n",
    "##the mean is identified so that I can group by two levels of GDP.\n",
    "gdp1.mean(axis = 1).describe()\n"
   ]
  },
  {
   "cell_type": "code",
   "execution_count": 479,
   "metadata": {},
   "outputs": [
    {
     "data": {
      "text/plain": [
       "Text(0.5, 1.0, 'GINI index grouped by Oil Production and GDP')"
      ]
     },
     "execution_count": 479,
     "metadata": {},
     "output_type": "execute_result"
    },
    {
     "data": {
      "image/png": "[encoded data removed]",
      "text/plain": [
       "<Figure size 432x288 with 1 Axes>"
      ]
     },
     "metadata": {},
     "output_type": "display_data"
    }
   ],
   "source": [
    "## An additional column is created to group by high and low GDP/capita. \n",
    "##A bar graph is created to see if a trend between equality and oil production can be found in one of the GDP groups.\n",
    "def gdp_level(meangdp):\n",
    "    if meangdp >= 12815.568653:\n",
    "        return 'High'\n",
    "    else:\n",
    "        return 'Low'\n",
    "    \n",
    "agg_df['gdp_level'] = agg_df['mean_gdp'].apply(gdp_level)\n",
    "\n",
    "oil_gdp_level = agg_df.groupby(['gdp_level', 'oil_prod_level']).mean()\n",
    "oil_gdp_plot = oil_gdp_level.unstack().plot(y = 'mean_gini', kind='bar')\n",
    "oil_gdp_plot.set_ylabel('GINI Index(%)')\n",
    "oil_gdp_plot.set_title('GINI index grouped by Oil Production and GDP')"
   ]
  },
  {
   "cell_type": "code",
   "execution_count": 443,
   "metadata": {},
   "outputs": [
    {
     "data": {
      "text/html": [
       "<div>\n",
       "<style scoped>\n",
       "    .dataframe tbody tr th:only-of-type {\n",
       "        vertical-align: middle;\n",
       "    }\n",
       "\n",
       "    .dataframe tbody tr th {\n",
       "        vertical-align: top;\n",
       "    }\n",
       "\n",
       "    .dataframe thead th {\n",
       "        text-align: right;\n",
       "    }\n",
       "</style>\n",
       "<table border=\"1\" class=\"dataframe\">\n",
       "  <thead>\n",
       "    <tr style=\"text-align: right;\">\n",
       "      <th></th>\n",
       "      <th>country</th>\n",
       "      <th>mean_gdp</th>\n",
       "      <th>mean_gini</th>\n",
       "      <th>total_oil</th>\n",
       "      <th>gdp_level</th>\n",
       "      <th>oil_prod_level</th>\n",
       "    </tr>\n",
       "  </thead>\n",
       "  <tbody>\n",
       "    <tr>\n",
       "      <th>77</th>\n",
       "      <td>Iran</td>\n",
       "      <td>12799.62</td>\n",
       "      <td>42.760000</td>\n",
       "      <td>9.459100e+09</td>\n",
       "      <td>Low</td>\n",
       "      <td>4th quartile</td>\n",
       "    </tr>\n",
       "    <tr>\n",
       "      <th>140</th>\n",
       "      <td>Russia</td>\n",
       "      <td>18223.08</td>\n",
       "      <td>40.210000</td>\n",
       "      <td>1.449500e+10</td>\n",
       "      <td>High</td>\n",
       "      <td>4th quartile</td>\n",
       "    </tr>\n",
       "    <tr>\n",
       "      <th>145</th>\n",
       "      <td>Saudi Arabia</td>\n",
       "      <td>51267.31</td>\n",
       "      <td>39.646375</td>\n",
       "      <td>2.030800e+10</td>\n",
       "      <td>High</td>\n",
       "      <td>4th quartile</td>\n",
       "    </tr>\n",
       "    <tr>\n",
       "      <th>184</th>\n",
       "      <td>United States</td>\n",
       "      <td>37451.92</td>\n",
       "      <td>39.650000</td>\n",
       "      <td>2.237100e+10</td>\n",
       "      <td>High</td>\n",
       "      <td>4th quartile</td>\n",
       "    </tr>\n",
       "  </tbody>\n",
       "</table>\n",
       "</div>"
      ],
      "text/plain": [
       "           country  mean_gdp  mean_gini     total_oil gdp_level oil_prod_level\n",
       "77            Iran  12799.62  42.760000  9.459100e+09       Low   4th quartile\n",
       "140         Russia  18223.08  40.210000  1.449500e+10      High   4th quartile\n",
       "145   Saudi Arabia  51267.31  39.646375  2.030800e+10      High   4th quartile\n",
       "184  United States  37451.92  39.650000  2.237100e+10      High   4th quartile"
      ]
     },
     "execution_count": 443,
     "metadata": {},
     "output_type": "execute_result"
    }
   ],
   "source": [
    "agg_df[agg_df['oil_prod_level']=='4th quartile']"
   ]
  },
  {
   "cell_type": "markdown",
   "metadata": {},
   "source": [
    "<a id='conclusions'></a>\n",
    "## Conclusions\n",
    "\n",
    "> GDP/capita and oil production have both increased dramatically since 1965. Oil producing countries have a higher GDP/capita than all countries' GDP/capita\n",
    "\n",
    "> GDP/capita in oil producing countries has risen less steadily than in countries as a whole. The relationship between oil countries' GDP and oil production is less closs than I expected. There was a peak in GDP around 1980 that was not reached again until 2005. This peak seems to be visible but somewhat muted in the GDP data from all countries.\n",
    "\n",
    ">Oil production is not a good predictor of equality. Among higher income countries, the highest level of equality is found in countries that do not produce oil. \n",
    "\n",
    ">Limitations\n",
    "There are only 49 oil producing countries, and the countries are very diverse in many aspects. \n",
    "Furthermore, GINI data is lacking for many countries. Saudi Arabia does not have GINI data, and it is one of the four countries in the top quartile of oil production. \n",
    "Conclusions about relationships between variables were made based on visual appearance of the graphs. No statistical anaysis was performed.\n"
   ]
  },
  {
   "cell_type": "code",
   "execution_count": null,
   "metadata": {},
   "outputs": [],
   "source": []
  }
 ],
 "metadata": {
  "kernelspec": {
   "display_name": "Python 3",
   "language": "python",
   "name": "python3"
  },
  "language_info": {
   "codemirror_mode": {
    "name": "ipython",
    "version": 3
   },
   "file_extension": ".py",
   "mimetype": "text/x-python",
   "name": "python",
   "nbconvert_exporter": "python",
   "pygments_lexer": "ipython3",
   "version": "3.7.2"
  }
 },
 "nbformat": 4,
 "nbformat_minor": 2
}
